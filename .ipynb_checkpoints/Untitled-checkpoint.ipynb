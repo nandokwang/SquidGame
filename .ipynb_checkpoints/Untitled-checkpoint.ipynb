{
 "cells": [
  {
   "cell_type": "code",
   "execution_count": 20,
   "id": "91fdd5fb-a53a-4378-8a8e-5b3232a00a7e",
   "metadata": {},
   "outputs": [],
   "source": [
    "import numpy as np\n",
    "import time\n",
    "\n",
    "# 배열 준비\n",
    "a = np.arange(4).reshape(1,2,2)\n",
    "b = np.arange(4).reshape(1,2,2)\n",
    "c = np.arange(8).reshape(2,4)\n",
    "d = list(range(5))\n",
    "\n",
    "# e = np.vstack((a,b)) # 배열과 배열 결합\n",
    "# f = np.vstack((a,d)) # 배열과 리스트 결합\n",
    "# g = np.vstack((a,b,d)) # 3개 이상 배열 결합"
   ]
  },
  {
   "cell_type": "code",
   "execution_count": 21,
   "id": "a01214be-89f2-4202-b231-af391bc75228",
   "metadata": {},
   "outputs": [
    {
     "name": "stdout",
     "output_type": "stream",
     "text": [
      "[[[0 1]\n",
      "  [2 3]]]\n"
     ]
    },
    {
     "data": {
      "text/plain": [
       "(1, 2, 2)"
      ]
     },
     "execution_count": 21,
     "metadata": {},
     "output_type": "execute_result"
    }
   ],
   "source": [
    "print(a)\n",
    "a.shape"
   ]
  },
  {
   "cell_type": "code",
   "execution_count": 22,
   "id": "5dbe402d-2212-4aef-ab26-e9ddd8b5807e",
   "metadata": {},
   "outputs": [
    {
     "name": "stdout",
     "output_type": "stream",
     "text": [
      "[[[0 1]\n",
      "  [2 3]]]\n"
     ]
    },
    {
     "data": {
      "text/plain": [
       "(1, 2, 2)"
      ]
     },
     "execution_count": 22,
     "metadata": {},
     "output_type": "execute_result"
    }
   ],
   "source": [
    "print(b)\n",
    "b.shape"
   ]
  },
  {
   "cell_type": "code",
   "execution_count": 23,
   "id": "ec292478-c2ea-41a0-a03a-2eaccde36fb5",
   "metadata": {},
   "outputs": [
    {
     "name": "stdout",
     "output_type": "stream",
     "text": [
      "[[[0 1]\n",
      "  [2 3]]\n",
      "\n",
      " [[0 1]\n",
      "  [2 3]]]\n",
      "(2, 2, 2)\n",
      "time 0.0\n"
     ]
    }
   ],
   "source": [
    "start = time.time()\n",
    "c = np.vstack((a,b))\n",
    "end = time.time()\n",
    "\n",
    "print(c)\n",
    "print(c.shape)\n",
    "\n",
    "print('time', end-start)"
   ]
  },
  {
   "cell_type": "code",
   "execution_count": 9,
   "id": "10d33f17-7dbd-40cc-b5c1-29c2034df74d",
   "metadata": {},
   "outputs": [
    {
     "name": "stdout",
     "output_type": "stream",
     "text": [
      "time 0.0\n"
     ]
    }
   ],
   "source": [
    "start = time.time()\n",
    "d = np.append(a, b, axis=0)\n",
    "end = time.time()\n",
    "print('time', end-start)"
   ]
  },
  {
   "cell_type": "code",
   "execution_count": 10,
   "id": "6b1053ae-cef0-46bb-9cf2-64b31dd492a2",
   "metadata": {},
   "outputs": [
    {
     "data": {
      "text/plain": [
       "array([[[0, 1],\n",
       "        [2, 3]],\n",
       "\n",
       "       [[0, 1],\n",
       "        [2, 3]]])"
      ]
     },
     "execution_count": 10,
     "metadata": {},
     "output_type": "execute_result"
    }
   ],
   "source": [
    "d"
   ]
  },
  {
   "cell_type": "code",
   "execution_count": 11,
   "id": "7a5f8710-b95e-425f-b570-8087b36d3058",
   "metadata": {},
   "outputs": [
    {
     "data": {
      "text/plain": [
       "(2, 2, 2)"
      ]
     },
     "execution_count": 11,
     "metadata": {},
     "output_type": "execute_result"
    }
   ],
   "source": [
    "d.shape"
   ]
  },
  {
   "cell_type": "code",
   "execution_count": null,
   "id": "dec3938b-d0a3-4ae1-9b58-c5932ec512c6",
   "metadata": {},
   "outputs": [],
   "source": []
  }
 ],
 "metadata": {
  "kernelspec": {
   "display_name": "Python 3 (ipykernel)",
   "language": "python",
   "name": "python3"
  },
  "language_info": {
   "codemirror_mode": {
    "name": "ipython",
    "version": 3
   },
   "file_extension": ".py",
   "mimetype": "text/x-python",
   "name": "python",
   "nbconvert_exporter": "python",
   "pygments_lexer": "ipython3",
   "version": "3.7.0"
  }
 },
 "nbformat": 4,
 "nbformat_minor": 5
}
