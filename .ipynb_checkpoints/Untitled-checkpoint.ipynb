{
 "cells": [
  {
   "cell_type": "code",
   "execution_count": null,
   "id": "f8014480-3f16-42b0-b495-510209ea620d",
   "metadata": {},
   "outputs": [],
   "source": [
    "a_1 =\n",
    "[\n",
    "    [1,2]\n",
    "    [3,2]\n",
    "    [4,5]\n",
    "]\n",
    "\n",
    "# ...\n",
    "\n",
    "a_20 =\n",
    "[\n",
    "    [5,4]\n",
    "    [3,6]\n",
    "    [2,6]\n",
    "]\n",
    "\n",
    "\n",
    "\n",
    "\n",
    "유클리디안 = \n",
    "[\n",
    "    [sum(i)/20]\n",
    "    [5]\n",
    "    [4]\n",
    "]\n",
    "\n",
    "\n",
    "\n"
   ]
  },
  {
   "cell_type": "code",
   "execution_count": 2,
   "id": "fdc35271-79dd-4912-8121-13f74e32934a",
   "metadata": {},
   "outputs": [],
   "source": [
    "import numpy as np\n",
    "\n",
    "a = np.array([[\n",
    "    [1,2],\n",
    "    [3,4],\n",
    "    [5,10],\n",
    "],\n",
    "[\n",
    "    [1,2],\n",
    "    [3,4],\n",
    "    [5,20],\n",
    "]])\n",
    "\n",
    "\n",
    "\"\"\"\n",
    "[\n",
    "    [1,2],\n",
    "    [3,4],\n",
    "    [5,15],\n",
    "]\n",
    "\"\"\"\n",
    "\n"
   ]
  },
  {
   "cell_type": "code",
   "execution_count": 4,
   "id": "54b01448-6ed4-4617-bd75-9a0987a6d0f2",
   "metadata": {},
   "outputs": [
    {
     "data": {
      "text/plain": [
       "(2, 3, 2)"
      ]
     },
     "execution_count": 4,
     "metadata": {},
     "output_type": "execute_result"
    }
   ],
   "source": [
    "a.shape # (20,17,2)"
   ]
  },
  {
   "cell_type": "code",
   "execution_count": null,
   "id": "12c05942-100d-4271-8f8a-b0e2d2a1d3e9",
   "metadata": {},
   "outputs": [],
   "source": []
  }
 ],
 "metadata": {
  "kernelspec": {
   "display_name": "Python 3 (ipykernel)",
   "language": "python",
   "name": "python3"
  },
  "language_info": {
   "codemirror_mode": {
    "name": "ipython",
    "version": 3
   },
   "file_extension": ".py",
   "mimetype": "text/x-python",
   "name": "python",
   "nbconvert_exporter": "python",
   "pygments_lexer": "ipython3",
   "version": "3.7.0"
  }
 },
 "nbformat": 4,
 "nbformat_minor": 5
}
